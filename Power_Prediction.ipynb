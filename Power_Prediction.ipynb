{
  "nbformat": 4,
  "nbformat_minor": 0,
  "metadata": {
    "colab": {
      "name": "Power Prediction.ipynb",
      "provenance": [],
      "collapsed_sections": []
    },
    "kernelspec": {
      "name": "python3",
      "display_name": "Python 3"
    },
    "language_info": {
      "name": "python"
    },
    "accelerator": "GPU"
  },
  "cells": [
    {
      "cell_type": "code",
      "metadata": {
        "id": "T1EXrWT2kVmF"
      },
      "source": [
        "import numpy as np \n",
        "import pandas as pd\n",
        "import matplotlib.pyplot as plt\n",
        "%matplotlib inline"
      ],
      "execution_count": null,
      "outputs": []
    },
    {
      "cell_type": "code",
      "metadata": {
        "id": "FnfT0-d6kuV1"
      },
      "source": [
        "train_df = pd.read_csv('/content/drive/MyDrive/HackerEarth Power Generated Challenge /train.csv')\n",
        "test_df = pd.read_csv('/content/drive/MyDrive/HackerEarth Power Generated Challenge /test.csv')"
      ],
      "execution_count": null,
      "outputs": []
    },
    {
      "cell_type": "code",
      "metadata": {
        "colab": {
          "base_uri": "https://localhost:8080/",
          "height": 400
        },
        "id": "ArSGAxjLlCAk",
        "outputId": "16791f98-66bd-4fc4-dc34-b2f5e5b0e025"
      },
      "source": [
        "train_df.head()"
      ],
      "execution_count": null,
      "outputs": [
        {
          "output_type": "execute_result",
          "data": {
            "text/html": [
              "<div>\n",
              "<style scoped>\n",
              "    .dataframe tbody tr th:only-of-type {\n",
              "        vertical-align: middle;\n",
              "    }\n",
              "\n",
              "    .dataframe tbody tr th {\n",
              "        vertical-align: top;\n",
              "    }\n",
              "\n",
              "    .dataframe thead th {\n",
              "        text-align: right;\n",
              "    }\n",
              "</style>\n",
              "<table border=\"1\" class=\"dataframe\">\n",
              "  <thead>\n",
              "    <tr style=\"text-align: right;\">\n",
              "      <th></th>\n",
              "      <th>tracking_id</th>\n",
              "      <th>datetime</th>\n",
              "      <th>wind_speed(m/s)</th>\n",
              "      <th>atmospheric_temperature(°C)</th>\n",
              "      <th>shaft_temperature(°C)</th>\n",
              "      <th>blades_angle(°)</th>\n",
              "      <th>gearbox_temperature(°C)</th>\n",
              "      <th>engine_temperature(°C)</th>\n",
              "      <th>motor_torque(N-m)</th>\n",
              "      <th>generator_temperature(°C)</th>\n",
              "      <th>atmospheric_pressure(Pascal)</th>\n",
              "      <th>area_temperature(°C)</th>\n",
              "      <th>windmill_body_temperature(°C)</th>\n",
              "      <th>wind_direction(°)</th>\n",
              "      <th>resistance(ohm)</th>\n",
              "      <th>rotor_torque(N-m)</th>\n",
              "      <th>turbine_status</th>\n",
              "      <th>cloud_level</th>\n",
              "      <th>blade_length(m)</th>\n",
              "      <th>blade_breadth(m)</th>\n",
              "      <th>windmill_height(m)</th>\n",
              "      <th>windmill_generated_power(kW/h)</th>\n",
              "    </tr>\n",
              "  </thead>\n",
              "  <tbody>\n",
              "    <tr>\n",
              "      <th>0</th>\n",
              "      <td>WM_33725</td>\n",
              "      <td>2019-08-04 14:33:20</td>\n",
              "      <td>94.820023</td>\n",
              "      <td>-99.000000</td>\n",
              "      <td>41.723019</td>\n",
              "      <td>-0.903423</td>\n",
              "      <td>82.410573</td>\n",
              "      <td>42.523015</td>\n",
              "      <td>2563.124522</td>\n",
              "      <td>76.665560</td>\n",
              "      <td>103402.961872</td>\n",
              "      <td>26.897875</td>\n",
              "      <td>NaN</td>\n",
              "      <td>239.836388</td>\n",
              "      <td>2730.310605</td>\n",
              "      <td>42.084666</td>\n",
              "      <td>BA</td>\n",
              "      <td>Medium</td>\n",
              "      <td>2.217542</td>\n",
              "      <td>0.314065</td>\n",
              "      <td>24.281689</td>\n",
              "      <td>6.766521</td>\n",
              "    </tr>\n",
              "    <tr>\n",
              "      <th>1</th>\n",
              "      <td>WM_698</td>\n",
              "      <td>2018-11-05 10:13:20</td>\n",
              "      <td>241.832734</td>\n",
              "      <td>27.764785</td>\n",
              "      <td>-99.000000</td>\n",
              "      <td>-99.000000</td>\n",
              "      <td>44.104919</td>\n",
              "      <td>46.258870</td>\n",
              "      <td>2372.384119</td>\n",
              "      <td>78.129803</td>\n",
              "      <td>17030.904078</td>\n",
              "      <td>39.801469</td>\n",
              "      <td>NaN</td>\n",
              "      <td>337.944723</td>\n",
              "      <td>1780.207200</td>\n",
              "      <td>107.888643</td>\n",
              "      <td>A2</td>\n",
              "      <td>Medium</td>\n",
              "      <td>4.210346</td>\n",
              "      <td>0.448494</td>\n",
              "      <td>27.262139</td>\n",
              "      <td>5.966275</td>\n",
              "    </tr>\n",
              "    <tr>\n",
              "      <th>2</th>\n",
              "      <td>WM_39146</td>\n",
              "      <td>2019-09-14 14:03:20</td>\n",
              "      <td>95.484724</td>\n",
              "      <td>NaN</td>\n",
              "      <td>41.855473</td>\n",
              "      <td>12.652763</td>\n",
              "      <td>42.322098</td>\n",
              "      <td>42.878552</td>\n",
              "      <td>1657.169646</td>\n",
              "      <td>67.654469</td>\n",
              "      <td>16125.927107</td>\n",
              "      <td>36.116065</td>\n",
              "      <td>45.033197</td>\n",
              "      <td>227.850294</td>\n",
              "      <td>1666.049900</td>\n",
              "      <td>-42.931459</td>\n",
              "      <td>ABC</td>\n",
              "      <td>Medium</td>\n",
              "      <td>2.719475</td>\n",
              "      <td>0.302321</td>\n",
              "      <td>27.366127</td>\n",
              "      <td>2.874342</td>\n",
              "    </tr>\n",
              "    <tr>\n",
              "      <th>3</th>\n",
              "      <td>WM_6757</td>\n",
              "      <td>2018-12-25 15:33:20</td>\n",
              "      <td>238.819424</td>\n",
              "      <td>-99.000000</td>\n",
              "      <td>45.443914</td>\n",
              "      <td>15.115323</td>\n",
              "      <td>44.759643</td>\n",
              "      <td>47.282101</td>\n",
              "      <td>2888.134079</td>\n",
              "      <td>95.389974</td>\n",
              "      <td>18689.732336</td>\n",
              "      <td>46.020045</td>\n",
              "      <td>44.827154</td>\n",
              "      <td>492.081520</td>\n",
              "      <td>1964.502895</td>\n",
              "      <td>42.744596</td>\n",
              "      <td>ABC</td>\n",
              "      <td>NaN</td>\n",
              "      <td>4.857385</td>\n",
              "      <td>0.367140</td>\n",
              "      <td>24.287767</td>\n",
              "      <td>14.851089</td>\n",
              "    </tr>\n",
              "    <tr>\n",
              "      <th>4</th>\n",
              "      <td>WM_21521</td>\n",
              "      <td>2019-05-04 03:13:20</td>\n",
              "      <td>10.722890</td>\n",
              "      <td>NaN</td>\n",
              "      <td>41.981183</td>\n",
              "      <td>1.715696</td>\n",
              "      <td>-17.616459</td>\n",
              "      <td>43.469852</td>\n",
              "      <td>781.695419</td>\n",
              "      <td>37.423065</td>\n",
              "      <td>114468.169007</td>\n",
              "      <td>34.572941</td>\n",
              "      <td>-99.000000</td>\n",
              "      <td>259.274601</td>\n",
              "      <td>1177.516152</td>\n",
              "      <td>13.387289</td>\n",
              "      <td>AAA</td>\n",
              "      <td>Medium</td>\n",
              "      <td>NaN</td>\n",
              "      <td>0.453374</td>\n",
              "      <td>27.971650</td>\n",
              "      <td>3.519074</td>\n",
              "    </tr>\n",
              "  </tbody>\n",
              "</table>\n",
              "</div>"
            ],
            "text/plain": [
              "  tracking_id  ... windmill_generated_power(kW/h)\n",
              "0    WM_33725  ...                       6.766521\n",
              "1      WM_698  ...                       5.966275\n",
              "2    WM_39146  ...                       2.874342\n",
              "3     WM_6757  ...                      14.851089\n",
              "4    WM_21521  ...                       3.519074\n",
              "\n",
              "[5 rows x 22 columns]"
            ]
          },
          "metadata": {
            "tags": []
          },
          "execution_count": 3
        }
      ]
    },
    {
      "cell_type": "code",
      "metadata": {
        "colab": {
          "base_uri": "https://localhost:8080/",
          "height": 774
        },
        "id": "yIenbNComSxj",
        "outputId": "61274054-d2e5-461f-db1a-5a2d51931694"
      },
      "source": [
        "test_df"
      ],
      "execution_count": null,
      "outputs": [
        {
          "output_type": "execute_result",
          "data": {
            "text/html": [
              "<div>\n",
              "<style scoped>\n",
              "    .dataframe tbody tr th:only-of-type {\n",
              "        vertical-align: middle;\n",
              "    }\n",
              "\n",
              "    .dataframe tbody tr th {\n",
              "        vertical-align: top;\n",
              "    }\n",
              "\n",
              "    .dataframe thead th {\n",
              "        text-align: right;\n",
              "    }\n",
              "</style>\n",
              "<table border=\"1\" class=\"dataframe\">\n",
              "  <thead>\n",
              "    <tr style=\"text-align: right;\">\n",
              "      <th></th>\n",
              "      <th>tracking_id</th>\n",
              "      <th>datetime</th>\n",
              "      <th>wind_speed(m/s)</th>\n",
              "      <th>atmospheric_temperature(°C)</th>\n",
              "      <th>shaft_temperature(°C)</th>\n",
              "      <th>blades_angle(°)</th>\n",
              "      <th>gearbox_temperature(°C)</th>\n",
              "      <th>engine_temperature(°C)</th>\n",
              "      <th>motor_torque(N-m)</th>\n",
              "      <th>generator_temperature(°C)</th>\n",
              "      <th>atmospheric_pressure(Pascal)</th>\n",
              "      <th>area_temperature(°C)</th>\n",
              "      <th>windmill_body_temperature(°C)</th>\n",
              "      <th>wind_direction(°)</th>\n",
              "      <th>resistance(ohm)</th>\n",
              "      <th>rotor_torque(N-m)</th>\n",
              "      <th>turbine_status</th>\n",
              "      <th>cloud_level</th>\n",
              "      <th>blade_length(m)</th>\n",
              "      <th>blade_breadth(m)</th>\n",
              "      <th>windmill_height(m)</th>\n",
              "    </tr>\n",
              "  </thead>\n",
              "  <tbody>\n",
              "    <tr>\n",
              "      <th>0</th>\n",
              "      <td>WM_19817</td>\n",
              "      <td>2019-04-17 08:53:20</td>\n",
              "      <td>94.324266</td>\n",
              "      <td>17.641186</td>\n",
              "      <td>89.714193</td>\n",
              "      <td>51.146788</td>\n",
              "      <td>40.460560</td>\n",
              "      <td>39.594734</td>\n",
              "      <td>1073.202715</td>\n",
              "      <td>66.830037</td>\n",
              "      <td>16681.044117</td>\n",
              "      <td>24.004812</td>\n",
              "      <td>43.756693</td>\n",
              "      <td>445.976992</td>\n",
              "      <td>1664.222023</td>\n",
              "      <td>21.912243</td>\n",
              "      <td>BA</td>\n",
              "      <td>Medium</td>\n",
              "      <td>3.185837</td>\n",
              "      <td>0.403965</td>\n",
              "      <td>25.572431</td>\n",
              "    </tr>\n",
              "    <tr>\n",
              "      <th>1</th>\n",
              "      <td>WM_18723</td>\n",
              "      <td>2019-03-30 07:43:20</td>\n",
              "      <td>10.088870</td>\n",
              "      <td>13.978119</td>\n",
              "      <td>43.272846</td>\n",
              "      <td>46.516394</td>\n",
              "      <td>40.027788</td>\n",
              "      <td>41.176860</td>\n",
              "      <td>517.436430</td>\n",
              "      <td>37.284163</td>\n",
              "      <td>NaN</td>\n",
              "      <td>29.431813</td>\n",
              "      <td>42.728174</td>\n",
              "      <td>499.595287</td>\n",
              "      <td>1165.111992</td>\n",
              "      <td>-35.050093</td>\n",
              "      <td>A</td>\n",
              "      <td>Medium</td>\n",
              "      <td>3.016603</td>\n",
              "      <td>0.444755</td>\n",
              "      <td>24.371823</td>\n",
              "    </tr>\n",
              "    <tr>\n",
              "      <th>2</th>\n",
              "      <td>WM_34552</td>\n",
              "      <td>2019-08-10 11:33:20</td>\n",
              "      <td>347.152090</td>\n",
              "      <td>31.423035</td>\n",
              "      <td>41.076640</td>\n",
              "      <td>26.931602</td>\n",
              "      <td>43.109122</td>\n",
              "      <td>43.439556</td>\n",
              "      <td>1480.716492</td>\n",
              "      <td>70.010762</td>\n",
              "      <td>214812.836175</td>\n",
              "      <td>29.924235</td>\n",
              "      <td>43.256122</td>\n",
              "      <td>245.432231</td>\n",
              "      <td>1667.720491</td>\n",
              "      <td>27.195302</td>\n",
              "      <td>B2</td>\n",
              "      <td>Medium</td>\n",
              "      <td>2.611941</td>\n",
              "      <td>0.387368</td>\n",
              "      <td>27.654677</td>\n",
              "    </tr>\n",
              "    <tr>\n",
              "      <th>3</th>\n",
              "      <td>WM_28570</td>\n",
              "      <td>2019-06-26 03:53:20</td>\n",
              "      <td>24.471997</td>\n",
              "      <td>-99.000000</td>\n",
              "      <td>14.375078</td>\n",
              "      <td>66.513953</td>\n",
              "      <td>13.741253</td>\n",
              "      <td>15.577472</td>\n",
              "      <td>887.979475</td>\n",
              "      <td>41.445258</td>\n",
              "      <td>NaN</td>\n",
              "      <td>23.886434</td>\n",
              "      <td>13.501595</td>\n",
              "      <td>NaN</td>\n",
              "      <td>1329.744740</td>\n",
              "      <td>15.245757</td>\n",
              "      <td>BBB</td>\n",
              "      <td>Low</td>\n",
              "      <td>2.866805</td>\n",
              "      <td>0.450478</td>\n",
              "      <td>24.189426</td>\n",
              "    </tr>\n",
              "    <tr>\n",
              "      <th>4</th>\n",
              "      <td>WM_36934</td>\n",
              "      <td>2019-08-27 16:43:20</td>\n",
              "      <td>96.997026</td>\n",
              "      <td>33.281836</td>\n",
              "      <td>41.405192</td>\n",
              "      <td>1.843112</td>\n",
              "      <td>121.572907</td>\n",
              "      <td>43.934587</td>\n",
              "      <td>2053.916354</td>\n",
              "      <td>68.007787</td>\n",
              "      <td>16833.546517</td>\n",
              "      <td>35.906889</td>\n",
              "      <td>-99.000000</td>\n",
              "      <td>442.425744</td>\n",
              "      <td>691.408996</td>\n",
              "      <td>34.257024</td>\n",
              "      <td>A</td>\n",
              "      <td>Low</td>\n",
              "      <td>3.549672</td>\n",
              "      <td>0.368355</td>\n",
              "      <td>4.885440</td>\n",
              "    </tr>\n",
              "    <tr>\n",
              "      <th>...</th>\n",
              "      <td>...</td>\n",
              "      <td>...</td>\n",
              "      <td>...</td>\n",
              "      <td>...</td>\n",
              "      <td>...</td>\n",
              "      <td>...</td>\n",
              "      <td>...</td>\n",
              "      <td>...</td>\n",
              "      <td>...</td>\n",
              "      <td>...</td>\n",
              "      <td>...</td>\n",
              "      <td>...</td>\n",
              "      <td>...</td>\n",
              "      <td>...</td>\n",
              "      <td>...</td>\n",
              "      <td>...</td>\n",
              "      <td>...</td>\n",
              "      <td>...</td>\n",
              "      <td>...</td>\n",
              "      <td>...</td>\n",
              "      <td>...</td>\n",
              "    </tr>\n",
              "    <tr>\n",
              "      <th>12081</th>\n",
              "      <td>WM_13376</td>\n",
              "      <td>2019-02-12 11:33:20</td>\n",
              "      <td>-15.039400</td>\n",
              "      <td>18.517204</td>\n",
              "      <td>43.545409</td>\n",
              "      <td>-1.094038</td>\n",
              "      <td>44.550547</td>\n",
              "      <td>44.486619</td>\n",
              "      <td>2424.370244</td>\n",
              "      <td>75.850209</td>\n",
              "      <td>17239.345506</td>\n",
              "      <td>28.424722</td>\n",
              "      <td>42.128526</td>\n",
              "      <td>509.795489</td>\n",
              "      <td>1798.141681</td>\n",
              "      <td>-14.365696</td>\n",
              "      <td>NaN</td>\n",
              "      <td>Medium</td>\n",
              "      <td>3.286975</td>\n",
              "      <td>0.407771</td>\n",
              "      <td>20.888674</td>\n",
              "    </tr>\n",
              "    <tr>\n",
              "      <th>12082</th>\n",
              "      <td>WM_1630</td>\n",
              "      <td>2018-11-12 17:33:20</td>\n",
              "      <td>97.594116</td>\n",
              "      <td>-99.000000</td>\n",
              "      <td>44.747916</td>\n",
              "      <td>1.750553</td>\n",
              "      <td>43.308176</td>\n",
              "      <td>42.848779</td>\n",
              "      <td>2085.627252</td>\n",
              "      <td>73.091866</td>\n",
              "      <td>17131.448669</td>\n",
              "      <td>50.615296</td>\n",
              "      <td>47.353528</td>\n",
              "      <td>345.705839</td>\n",
              "      <td>1680.245230</td>\n",
              "      <td>-7.062661</td>\n",
              "      <td>AB</td>\n",
              "      <td>Low</td>\n",
              "      <td>NaN</td>\n",
              "      <td>0.367823</td>\n",
              "      <td>24.793606</td>\n",
              "    </tr>\n",
              "    <tr>\n",
              "      <th>12083</th>\n",
              "      <td>WM_24703</td>\n",
              "      <td>2019-05-27 11:53:20</td>\n",
              "      <td>16.186805</td>\n",
              "      <td>8.109976</td>\n",
              "      <td>43.252012</td>\n",
              "      <td>-0.691090</td>\n",
              "      <td>214.904165</td>\n",
              "      <td>41.177782</td>\n",
              "      <td>788.687177</td>\n",
              "      <td>39.514258</td>\n",
              "      <td>118707.643665</td>\n",
              "      <td>20.983939</td>\n",
              "      <td>41.768478</td>\n",
              "      <td>205.569627</td>\n",
              "      <td>2343.165194</td>\n",
              "      <td>12.331790</td>\n",
              "      <td>BA</td>\n",
              "      <td>Low</td>\n",
              "      <td>3.728375</td>\n",
              "      <td>0.459887</td>\n",
              "      <td>5.653451</td>\n",
              "    </tr>\n",
              "    <tr>\n",
              "      <th>12084</th>\n",
              "      <td>WM_22893</td>\n",
              "      <td>2019-05-13 21:53:20</td>\n",
              "      <td>93.254033</td>\n",
              "      <td>-99.000000</td>\n",
              "      <td>43.841789</td>\n",
              "      <td>-1.171974</td>\n",
              "      <td>41.976913</td>\n",
              "      <td>42.039796</td>\n",
              "      <td>2079.855634</td>\n",
              "      <td>71.482324</td>\n",
              "      <td>17155.269313</td>\n",
              "      <td>29.114305</td>\n",
              "      <td>82.750271</td>\n",
              "      <td>260.578999</td>\n",
              "      <td>1732.883672</td>\n",
              "      <td>NaN</td>\n",
              "      <td>A</td>\n",
              "      <td>Medium</td>\n",
              "      <td>2.247676</td>\n",
              "      <td>0.394680</td>\n",
              "      <td>24.591364</td>\n",
              "    </tr>\n",
              "    <tr>\n",
              "      <th>12085</th>\n",
              "      <td>WM_14513</td>\n",
              "      <td>2019-02-20 23:43:20</td>\n",
              "      <td>42.607485</td>\n",
              "      <td>13.245828</td>\n",
              "      <td>43.480982</td>\n",
              "      <td>9.258178</td>\n",
              "      <td>132.587960</td>\n",
              "      <td>46.312684</td>\n",
              "      <td>969.733090</td>\n",
              "      <td>46.777642</td>\n",
              "      <td>130018.594173</td>\n",
              "      <td>39.491015</td>\n",
              "      <td>97.070812</td>\n",
              "      <td>NaN</td>\n",
              "      <td>-99.000000</td>\n",
              "      <td>19.467561</td>\n",
              "      <td>A2</td>\n",
              "      <td>Medium</td>\n",
              "      <td>NaN</td>\n",
              "      <td>0.490893</td>\n",
              "      <td>21.665001</td>\n",
              "    </tr>\n",
              "  </tbody>\n",
              "</table>\n",
              "<p>12086 rows × 21 columns</p>\n",
              "</div>"
            ],
            "text/plain": [
              "      tracking_id             datetime  ...  blade_breadth(m)  windmill_height(m)\n",
              "0        WM_19817  2019-04-17 08:53:20  ...          0.403965           25.572431\n",
              "1        WM_18723  2019-03-30 07:43:20  ...          0.444755           24.371823\n",
              "2        WM_34552  2019-08-10 11:33:20  ...          0.387368           27.654677\n",
              "3        WM_28570  2019-06-26 03:53:20  ...          0.450478           24.189426\n",
              "4        WM_36934  2019-08-27 16:43:20  ...          0.368355            4.885440\n",
              "...           ...                  ...  ...               ...                 ...\n",
              "12081    WM_13376  2019-02-12 11:33:20  ...          0.407771           20.888674\n",
              "12082     WM_1630  2018-11-12 17:33:20  ...          0.367823           24.793606\n",
              "12083    WM_24703  2019-05-27 11:53:20  ...          0.459887            5.653451\n",
              "12084    WM_22893  2019-05-13 21:53:20  ...          0.394680           24.591364\n",
              "12085    WM_14513  2019-02-20 23:43:20  ...          0.490893           21.665001\n",
              "\n",
              "[12086 rows x 21 columns]"
            ]
          },
          "metadata": {
            "tags": []
          },
          "execution_count": 4
        }
      ]
    },
    {
      "cell_type": "code",
      "metadata": {
        "colab": {
          "base_uri": "https://localhost:8080/",
          "height": 321
        },
        "id": "ai-NI7vrmcFR",
        "outputId": "38527784-3efd-4c1d-98d6-6674b5f01201"
      },
      "source": [
        "train_df.describe()"
      ],
      "execution_count": null,
      "outputs": [
        {
          "output_type": "execute_result",
          "data": {
            "text/html": [
              "<div>\n",
              "<style scoped>\n",
              "    .dataframe tbody tr th:only-of-type {\n",
              "        vertical-align: middle;\n",
              "    }\n",
              "\n",
              "    .dataframe tbody tr th {\n",
              "        vertical-align: top;\n",
              "    }\n",
              "\n",
              "    .dataframe thead th {\n",
              "        text-align: right;\n",
              "    }\n",
              "</style>\n",
              "<table border=\"1\" class=\"dataframe\">\n",
              "  <thead>\n",
              "    <tr style=\"text-align: right;\">\n",
              "      <th></th>\n",
              "      <th>wind_speed(m/s)</th>\n",
              "      <th>atmospheric_temperature(°C)</th>\n",
              "      <th>shaft_temperature(°C)</th>\n",
              "      <th>blades_angle(°)</th>\n",
              "      <th>gearbox_temperature(°C)</th>\n",
              "      <th>engine_temperature(°C)</th>\n",
              "      <th>motor_torque(N-m)</th>\n",
              "      <th>generator_temperature(°C)</th>\n",
              "      <th>atmospheric_pressure(Pascal)</th>\n",
              "      <th>area_temperature(°C)</th>\n",
              "      <th>windmill_body_temperature(°C)</th>\n",
              "      <th>wind_direction(°)</th>\n",
              "      <th>resistance(ohm)</th>\n",
              "      <th>rotor_torque(N-m)</th>\n",
              "      <th>blade_length(m)</th>\n",
              "      <th>blade_breadth(m)</th>\n",
              "      <th>windmill_height(m)</th>\n",
              "      <th>windmill_generated_power(kW/h)</th>\n",
              "    </tr>\n",
              "  </thead>\n",
              "  <tbody>\n",
              "    <tr>\n",
              "      <th>count</th>\n",
              "      <td>27927.000000</td>\n",
              "      <td>24750.000000</td>\n",
              "      <td>28198.000000</td>\n",
              "      <td>27984.000000</td>\n",
              "      <td>28199.000000</td>\n",
              "      <td>28188.000000</td>\n",
              "      <td>28176.000000</td>\n",
              "      <td>28188.000000</td>\n",
              "      <td>2.549300e+04</td>\n",
              "      <td>28200.000000</td>\n",
              "      <td>25837.000000</td>\n",
              "      <td>23097.000000</td>\n",
              "      <td>28199.000000</td>\n",
              "      <td>27628.000000</td>\n",
              "      <td>23107.000000</td>\n",
              "      <td>28200.000000</td>\n",
              "      <td>27657.000000</td>\n",
              "      <td>27993.000000</td>\n",
              "    </tr>\n",
              "    <tr>\n",
              "      <th>mean</th>\n",
              "      <td>69.037071</td>\n",
              "      <td>0.383727</td>\n",
              "      <td>40.085387</td>\n",
              "      <td>-9.654038</td>\n",
              "      <td>41.027755</td>\n",
              "      <td>42.614239</td>\n",
              "      <td>1710.819803</td>\n",
              "      <td>65.027857</td>\n",
              "      <td>5.318506e+04</td>\n",
              "      <td>32.735091</td>\n",
              "      <td>20.799761</td>\n",
              "      <td>306.888883</td>\n",
              "      <td>1575.560011</td>\n",
              "      <td>25.849894</td>\n",
              "      <td>2.254034</td>\n",
              "      <td>0.397249</td>\n",
              "      <td>25.887052</td>\n",
              "      <td>6.130529</td>\n",
              "    </tr>\n",
              "    <tr>\n",
              "      <th>std</th>\n",
              "      <td>76.275645</td>\n",
              "      <td>44.278534</td>\n",
              "      <td>27.204430</td>\n",
              "      <td>47.918161</td>\n",
              "      <td>43.663605</td>\n",
              "      <td>6.124546</td>\n",
              "      <td>827.205537</td>\n",
              "      <td>19.816499</td>\n",
              "      <td>1.875036e+05</td>\n",
              "      <td>7.703391</td>\n",
              "      <td>54.356431</td>\n",
              "      <td>134.055900</td>\n",
              "      <td>483.326394</td>\n",
              "      <td>32.423943</td>\n",
              "      <td>11.275602</td>\n",
              "      <td>0.061158</td>\n",
              "      <td>7.773609</td>\n",
              "      <td>2.697520</td>\n",
              "    </tr>\n",
              "    <tr>\n",
              "      <th>min</th>\n",
              "      <td>-496.211029</td>\n",
              "      <td>-99.000000</td>\n",
              "      <td>-99.000000</td>\n",
              "      <td>-146.259543</td>\n",
              "      <td>-244.974098</td>\n",
              "      <td>3.167151</td>\n",
              "      <td>500.000000</td>\n",
              "      <td>33.893779</td>\n",
              "      <td>-1.188624e+06</td>\n",
              "      <td>-30.000000</td>\n",
              "      <td>-999.000000</td>\n",
              "      <td>0.000000</td>\n",
              "      <td>-1005.222988</td>\n",
              "      <td>-136.732217</td>\n",
              "      <td>-99.000000</td>\n",
              "      <td>0.200111</td>\n",
              "      <td>-30.295253</td>\n",
              "      <td>0.962305</td>\n",
              "    </tr>\n",
              "    <tr>\n",
              "      <th>25%</th>\n",
              "      <td>20.883502</td>\n",
              "      <td>7.948900</td>\n",
              "      <td>41.633238</td>\n",
              "      <td>-1.197652</td>\n",
              "      <td>40.557952</td>\n",
              "      <td>41.911365</td>\n",
              "      <td>870.340239</td>\n",
              "      <td>41.198509</td>\n",
              "      <td>1.679492e+04</td>\n",
              "      <td>27.311644</td>\n",
              "      <td>40.448386</td>\n",
              "      <td>238.627752</td>\n",
              "      <td>1268.134043</td>\n",
              "      <td>13.722808</td>\n",
              "      <td>2.544859</td>\n",
              "      <td>0.347445</td>\n",
              "      <td>24.447658</td>\n",
              "      <td>4.059505</td>\n",
              "    </tr>\n",
              "    <tr>\n",
              "      <th>50%</th>\n",
              "      <td>93.302129</td>\n",
              "      <td>16.102410</td>\n",
              "      <td>43.686082</td>\n",
              "      <td>-0.495608</td>\n",
              "      <td>43.221735</td>\n",
              "      <td>43.525297</td>\n",
              "      <td>2031.849540</td>\n",
              "      <td>70.729533</td>\n",
              "      <td>1.819113e+04</td>\n",
              "      <td>32.605195</td>\n",
              "      <td>42.786832</td>\n",
              "      <td>271.427656</td>\n",
              "      <td>1678.238404</td>\n",
              "      <td>32.977192</td>\n",
              "      <td>3.453333</td>\n",
              "      <td>0.398591</td>\n",
              "      <td>25.957739</td>\n",
              "      <td>5.764710</td>\n",
              "    </tr>\n",
              "    <tr>\n",
              "      <th>75%</th>\n",
              "      <td>95.268058</td>\n",
              "      <td>23.687285</td>\n",
              "      <td>45.673685</td>\n",
              "      <td>5.495030</td>\n",
              "      <td>45.879425</td>\n",
              "      <td>45.174246</td>\n",
              "      <td>2462.585729</td>\n",
              "      <td>78.945849</td>\n",
              "      <td>1.181133e+05</td>\n",
              "      <td>38.232387</td>\n",
              "      <td>44.494543</td>\n",
              "      <td>404.153517</td>\n",
              "      <td>1829.054007</td>\n",
              "      <td>41.550520</td>\n",
              "      <td>4.357862</td>\n",
              "      <td>0.449354</td>\n",
              "      <td>27.477854</td>\n",
              "      <td>7.947195</td>\n",
              "    </tr>\n",
              "    <tr>\n",
              "      <th>max</th>\n",
              "      <td>601.455670</td>\n",
              "      <td>80.217444</td>\n",
              "      <td>169.820455</td>\n",
              "      <td>165.932123</td>\n",
              "      <td>999.000000</td>\n",
              "      <td>50.000000</td>\n",
              "      <td>3000.000000</td>\n",
              "      <td>100.000000</td>\n",
              "      <td>1.272552e+06</td>\n",
              "      <td>55.000000</td>\n",
              "      <td>323.000000</td>\n",
              "      <td>569.966479</td>\n",
              "      <td>4693.481933</td>\n",
              "      <td>236.883264</td>\n",
              "      <td>18.209800</td>\n",
              "      <td>0.499975</td>\n",
              "      <td>78.351335</td>\n",
              "      <td>20.175358</td>\n",
              "    </tr>\n",
              "  </tbody>\n",
              "</table>\n",
              "</div>"
            ],
            "text/plain": [
              "       wind_speed(m/s)  ...  windmill_generated_power(kW/h)\n",
              "count     27927.000000  ...                    27993.000000\n",
              "mean         69.037071  ...                        6.130529\n",
              "std          76.275645  ...                        2.697520\n",
              "min        -496.211029  ...                        0.962305\n",
              "25%          20.883502  ...                        4.059505\n",
              "50%          93.302129  ...                        5.764710\n",
              "75%          95.268058  ...                        7.947195\n",
              "max         601.455670  ...                       20.175358\n",
              "\n",
              "[8 rows x 18 columns]"
            ]
          },
          "metadata": {
            "tags": []
          },
          "execution_count": 5
        }
      ]
    },
    {
      "cell_type": "code",
      "metadata": {
        "id": "gNzmUoYWni2X"
      },
      "source": [
        "#Replacing low, medium, extremely low in cloud level column with their one hot encoded values\n",
        "\n",
        "train_df['cloud_level'] = train_df['cloud_level'].replace({'Low' : 0 , 'Medium' : 1, 'Extremely Low' : -1})"
      ],
      "execution_count": null,
      "outputs": []
    },
    {
      "cell_type": "code",
      "metadata": {
        "id": "1cZfiTNqpkz1"
      },
      "source": [
        "#Doing the same as above for test set\n",
        "\n",
        "test_df['cloud_level'] = test_df['cloud_level'].replace({'Low' : 0 , 'Medium' : 1, 'Extremely Low' : -1})"
      ],
      "execution_count": null,
      "outputs": []
    },
    {
      "cell_type": "code",
      "metadata": {
        "id": "1ixgM4rYoLyY"
      },
      "source": [
        "#Replacing the various text described values in the column turbine_status with their one hot encode values\n",
        "onehotencods = {}\n",
        "for i in range(len(train_df['turbine_status'].unique())):\n",
        "  onehotencods[train_df['turbine_status'].unique()[i]] = i\n",
        "  train_df['turbine_status'].replace({train_df['turbine_status'].unique()[i] : i}, inplace = True)"
      ],
      "execution_count": null,
      "outputs": []
    },
    {
      "cell_type": "code",
      "metadata": {
        "colab": {
          "base_uri": "https://localhost:8080/"
        },
        "id": "fdi0qaRus1I1",
        "outputId": "b6542526-7674-4994-ded6-6d6d85be47b5"
      },
      "source": [
        "onehotencods"
      ],
      "execution_count": null,
      "outputs": [
        {
          "output_type": "execute_result",
          "data": {
            "text/plain": [
              "{'A': 13,\n",
              " 'A2': 1,\n",
              " 'AAA': 3,\n",
              " 'AB': 9,\n",
              " 'ABC': 2,\n",
              " 'AC': 5,\n",
              " 'B': 8,\n",
              " 'B2': 11,\n",
              " 'BA': 0,\n",
              " 'BB': 6,\n",
              " 'BBB': 12,\n",
              " 'BCB': 7,\n",
              " 'BD': 4,\n",
              " 'D': 14,\n",
              " nan: 10}"
            ]
          },
          "metadata": {
            "tags": []
          },
          "execution_count": 9
        }
      ]
    },
    {
      "cell_type": "code",
      "metadata": {
        "colab": {
          "base_uri": "https://localhost:8080/"
        },
        "id": "tYKiSWY8qjxR",
        "outputId": "f1f98067-6f51-4cf0-b00f-a6e1aa35fc89"
      },
      "source": [
        "#Applying these one hot encoded numbers in test dataset \n",
        "test_df['turbine_status'].replace(onehotencods, inplace = True)\n",
        "\n",
        "print(test_df['turbine_status'].value_counts())"
      ],
      "execution_count": null,
      "outputs": [
        {
          "output_type": "stream",
          "text": [
            "6     871\n",
            "11    859\n",
            "13    852\n",
            "12    813\n",
            "7     811\n",
            "0     809\n",
            "9     804\n",
            "10    797\n",
            "1     796\n",
            "4     787\n",
            "2     787\n",
            "14    786\n",
            "5     778\n",
            "3     773\n",
            "8     763\n",
            "Name: turbine_status, dtype: int64\n"
          ],
          "name": "stdout"
        }
      ]
    },
    {
      "cell_type": "code",
      "metadata": {
        "id": "PD02AGrOuLeb"
      },
      "source": [
        "#Replace the nan values in the train dataset by corresponding median values of the column\n",
        "\n",
        "for i in range(len(train_df.describe().columns)):\n",
        "  train_df.iloc[:,i+2].replace(np.NAN,train_df.iloc[:,i+2].median(),inplace = True)"
      ],
      "execution_count": null,
      "outputs": []
    },
    {
      "cell_type": "code",
      "metadata": {
        "colab": {
          "base_uri": "https://localhost:8080/",
          "height": 321
        },
        "id": "UkrapqJ6t354",
        "outputId": "35485729-76ab-42f3-d564-7f7f9391cae8"
      },
      "source": [
        "train_df.describe()"
      ],
      "execution_count": null,
      "outputs": [
        {
          "output_type": "execute_result",
          "data": {
            "text/html": [
              "<div>\n",
              "<style scoped>\n",
              "    .dataframe tbody tr th:only-of-type {\n",
              "        vertical-align: middle;\n",
              "    }\n",
              "\n",
              "    .dataframe tbody tr th {\n",
              "        vertical-align: top;\n",
              "    }\n",
              "\n",
              "    .dataframe thead th {\n",
              "        text-align: right;\n",
              "    }\n",
              "</style>\n",
              "<table border=\"1\" class=\"dataframe\">\n",
              "  <thead>\n",
              "    <tr style=\"text-align: right;\">\n",
              "      <th></th>\n",
              "      <th>wind_speed(m/s)</th>\n",
              "      <th>atmospheric_temperature(°C)</th>\n",
              "      <th>shaft_temperature(°C)</th>\n",
              "      <th>blades_angle(°)</th>\n",
              "      <th>gearbox_temperature(°C)</th>\n",
              "      <th>engine_temperature(°C)</th>\n",
              "      <th>motor_torque(N-m)</th>\n",
              "      <th>generator_temperature(°C)</th>\n",
              "      <th>atmospheric_pressure(Pascal)</th>\n",
              "      <th>area_temperature(°C)</th>\n",
              "      <th>windmill_body_temperature(°C)</th>\n",
              "      <th>wind_direction(°)</th>\n",
              "      <th>resistance(ohm)</th>\n",
              "      <th>rotor_torque(N-m)</th>\n",
              "      <th>turbine_status</th>\n",
              "      <th>cloud_level</th>\n",
              "      <th>blade_length(m)</th>\n",
              "      <th>blade_breadth(m)</th>\n",
              "      <th>windmill_height(m)</th>\n",
              "      <th>windmill_generated_power(kW/h)</th>\n",
              "    </tr>\n",
              "  </thead>\n",
              "  <tbody>\n",
              "    <tr>\n",
              "      <th>count</th>\n",
              "      <td>28200.000000</td>\n",
              "      <td>28200.000000</td>\n",
              "      <td>28200.000000</td>\n",
              "      <td>28200.000000</td>\n",
              "      <td>28200.000000</td>\n",
              "      <td>28200.000000</td>\n",
              "      <td>28200.000000</td>\n",
              "      <td>28200.000000</td>\n",
              "      <td>2.820000e+04</td>\n",
              "      <td>28200.000000</td>\n",
              "      <td>28200.000000</td>\n",
              "      <td>28200.000000</td>\n",
              "      <td>28200.000000</td>\n",
              "      <td>28200.000000</td>\n",
              "      <td>28200.000000</td>\n",
              "      <td>28200.000000</td>\n",
              "      <td>28200.000000</td>\n",
              "      <td>28200.000000</td>\n",
              "      <td>28200.000000</td>\n",
              "      <td>28200.000000</td>\n",
              "    </tr>\n",
              "    <tr>\n",
              "      <th>mean</th>\n",
              "      <td>69.271978</td>\n",
              "      <td>2.306757</td>\n",
              "      <td>40.085642</td>\n",
              "      <td>-9.583888</td>\n",
              "      <td>41.027833</td>\n",
              "      <td>42.614626</td>\n",
              "      <td>1711.093020</td>\n",
              "      <td>65.030283</td>\n",
              "      <td>4.982589e+04</td>\n",
              "      <td>32.735091</td>\n",
              "      <td>22.642152</td>\n",
              "      <td>300.471910</td>\n",
              "      <td>1575.563653</td>\n",
              "      <td>25.994462</td>\n",
              "      <td>7.013617</td>\n",
              "      <td>0.475355</td>\n",
              "      <td>2.470631</td>\n",
              "      <td>0.397249</td>\n",
              "      <td>25.888413</td>\n",
              "      <td>6.127844</td>\n",
              "    </tr>\n",
              "    <tr>\n",
              "      <th>std</th>\n",
              "      <td>75.942703</td>\n",
              "      <td>41.800134</td>\n",
              "      <td>27.203482</td>\n",
              "      <td>47.740964</td>\n",
              "      <td>43.662833</td>\n",
              "      <td>6.123271</td>\n",
              "      <td>826.906441</td>\n",
              "      <td>19.812632</td>\n",
              "      <td>1.785746e+05</td>\n",
              "      <td>7.703391</td>\n",
              "      <td>52.384616</td>\n",
              "      <td>122.087135</td>\n",
              "      <td>483.318211</td>\n",
              "      <td>32.109132</td>\n",
              "      <td>4.321050</td>\n",
              "      <td>0.520200</td>\n",
              "      <td>10.217120</td>\n",
              "      <td>0.061158</td>\n",
              "      <td>7.698407</td>\n",
              "      <td>2.687783</td>\n",
              "    </tr>\n",
              "    <tr>\n",
              "      <th>min</th>\n",
              "      <td>-496.211029</td>\n",
              "      <td>-99.000000</td>\n",
              "      <td>-99.000000</td>\n",
              "      <td>-146.259543</td>\n",
              "      <td>-244.974098</td>\n",
              "      <td>3.167151</td>\n",
              "      <td>500.000000</td>\n",
              "      <td>33.893779</td>\n",
              "      <td>-1.188624e+06</td>\n",
              "      <td>-30.000000</td>\n",
              "      <td>-999.000000</td>\n",
              "      <td>0.000000</td>\n",
              "      <td>-1005.222988</td>\n",
              "      <td>-136.732217</td>\n",
              "      <td>0.000000</td>\n",
              "      <td>-1.000000</td>\n",
              "      <td>-99.000000</td>\n",
              "      <td>0.200111</td>\n",
              "      <td>-30.295253</td>\n",
              "      <td>0.962305</td>\n",
              "    </tr>\n",
              "    <tr>\n",
              "      <th>25%</th>\n",
              "      <td>21.250907</td>\n",
              "      <td>9.383737</td>\n",
              "      <td>41.633671</td>\n",
              "      <td>-1.194486</td>\n",
              "      <td>40.557993</td>\n",
              "      <td>41.911899</td>\n",
              "      <td>870.621152</td>\n",
              "      <td>41.200625</td>\n",
              "      <td>1.689269e+04</td>\n",
              "      <td>27.311644</td>\n",
              "      <td>40.851429</td>\n",
              "      <td>246.793261</td>\n",
              "      <td>1268.141402</td>\n",
              "      <td>13.829618</td>\n",
              "      <td>3.000000</td>\n",
              "      <td>0.000000</td>\n",
              "      <td>2.735787</td>\n",
              "      <td>0.347445</td>\n",
              "      <td>24.469380</td>\n",
              "      <td>4.076167</td>\n",
              "    </tr>\n",
              "    <tr>\n",
              "      <th>50%</th>\n",
              "      <td>93.302129</td>\n",
              "      <td>16.102410</td>\n",
              "      <td>43.686082</td>\n",
              "      <td>-0.495608</td>\n",
              "      <td>43.221735</td>\n",
              "      <td>43.525297</td>\n",
              "      <td>2031.849540</td>\n",
              "      <td>70.729533</td>\n",
              "      <td>1.819113e+04</td>\n",
              "      <td>32.605195</td>\n",
              "      <td>42.786832</td>\n",
              "      <td>271.427656</td>\n",
              "      <td>1678.238404</td>\n",
              "      <td>32.977192</td>\n",
              "      <td>7.000000</td>\n",
              "      <td>0.000000</td>\n",
              "      <td>3.453333</td>\n",
              "      <td>0.398591</td>\n",
              "      <td>25.957739</td>\n",
              "      <td>5.764710</td>\n",
              "    </tr>\n",
              "    <tr>\n",
              "      <th>75%</th>\n",
              "      <td>95.248020</td>\n",
              "      <td>22.575311</td>\n",
              "      <td>45.673234</td>\n",
              "      <td>5.370015</td>\n",
              "      <td>45.879212</td>\n",
              "      <td>45.173397</td>\n",
              "      <td>2462.164052</td>\n",
              "      <td>78.939478</td>\n",
              "      <td>1.164252e+05</td>\n",
              "      <td>38.232387</td>\n",
              "      <td>44.325305</td>\n",
              "      <td>332.325695</td>\n",
              "      <td>1829.044723</td>\n",
              "      <td>41.337104</td>\n",
              "      <td>11.000000</td>\n",
              "      <td>1.000000</td>\n",
              "      <td>4.156647</td>\n",
              "      <td>0.449354</td>\n",
              "      <td>27.451080</td>\n",
              "      <td>7.931295</td>\n",
              "    </tr>\n",
              "    <tr>\n",
              "      <th>max</th>\n",
              "      <td>601.455670</td>\n",
              "      <td>80.217444</td>\n",
              "      <td>169.820455</td>\n",
              "      <td>165.932123</td>\n",
              "      <td>999.000000</td>\n",
              "      <td>50.000000</td>\n",
              "      <td>3000.000000</td>\n",
              "      <td>100.000000</td>\n",
              "      <td>1.272552e+06</td>\n",
              "      <td>55.000000</td>\n",
              "      <td>323.000000</td>\n",
              "      <td>569.966479</td>\n",
              "      <td>4693.481933</td>\n",
              "      <td>236.883264</td>\n",
              "      <td>14.000000</td>\n",
              "      <td>1.000000</td>\n",
              "      <td>18.209800</td>\n",
              "      <td>0.499975</td>\n",
              "      <td>78.351335</td>\n",
              "      <td>20.175358</td>\n",
              "    </tr>\n",
              "  </tbody>\n",
              "</table>\n",
              "</div>"
            ],
            "text/plain": [
              "       wind_speed(m/s)  ...  windmill_generated_power(kW/h)\n",
              "count     28200.000000  ...                    28200.000000\n",
              "mean         69.271978  ...                        6.127844\n",
              "std          75.942703  ...                        2.687783\n",
              "min        -496.211029  ...                        0.962305\n",
              "25%          21.250907  ...                        4.076167\n",
              "50%          93.302129  ...                        5.764710\n",
              "75%          95.248020  ...                        7.931295\n",
              "max         601.455670  ...                       20.175358\n",
              "\n",
              "[8 rows x 20 columns]"
            ]
          },
          "metadata": {
            "tags": []
          },
          "execution_count": 12
        }
      ]
    },
    {
      "cell_type": "code",
      "metadata": {
        "id": "wgEv-LtjxF-M"
      },
      "source": [
        "#Doing the same for the test set \n",
        "for i in range(len(test_df.describe().columns)):\n",
        "  test_df.iloc[:,i+2].replace(np.NAN,test_df.iloc[:,i+2].median(),inplace = True)"
      ],
      "execution_count": null,
      "outputs": []
    },
    {
      "cell_type": "code",
      "metadata": {
        "colab": {
          "base_uri": "https://localhost:8080/",
          "height": 321
        },
        "id": "9dC15weixSYg",
        "outputId": "41d57b0b-887c-4490-8df7-941345a684a5"
      },
      "source": [
        "test_df.describe()"
      ],
      "execution_count": null,
      "outputs": [
        {
          "output_type": "execute_result",
          "data": {
            "text/html": [
              "<div>\n",
              "<style scoped>\n",
              "    .dataframe tbody tr th:only-of-type {\n",
              "        vertical-align: middle;\n",
              "    }\n",
              "\n",
              "    .dataframe tbody tr th {\n",
              "        vertical-align: top;\n",
              "    }\n",
              "\n",
              "    .dataframe thead th {\n",
              "        text-align: right;\n",
              "    }\n",
              "</style>\n",
              "<table border=\"1\" class=\"dataframe\">\n",
              "  <thead>\n",
              "    <tr style=\"text-align: right;\">\n",
              "      <th></th>\n",
              "      <th>wind_speed(m/s)</th>\n",
              "      <th>atmospheric_temperature(°C)</th>\n",
              "      <th>shaft_temperature(°C)</th>\n",
              "      <th>blades_angle(°)</th>\n",
              "      <th>gearbox_temperature(°C)</th>\n",
              "      <th>engine_temperature(°C)</th>\n",
              "      <th>motor_torque(N-m)</th>\n",
              "      <th>generator_temperature(°C)</th>\n",
              "      <th>atmospheric_pressure(Pascal)</th>\n",
              "      <th>area_temperature(°C)</th>\n",
              "      <th>windmill_body_temperature(°C)</th>\n",
              "      <th>wind_direction(°)</th>\n",
              "      <th>resistance(ohm)</th>\n",
              "      <th>rotor_torque(N-m)</th>\n",
              "      <th>turbine_status</th>\n",
              "      <th>cloud_level</th>\n",
              "      <th>blade_length(m)</th>\n",
              "      <th>blade_breadth(m)</th>\n",
              "      <th>windmill_height(m)</th>\n",
              "    </tr>\n",
              "  </thead>\n",
              "  <tbody>\n",
              "    <tr>\n",
              "      <th>count</th>\n",
              "      <td>12086.000000</td>\n",
              "      <td>12086.000000</td>\n",
              "      <td>12086.000000</td>\n",
              "      <td>12086.000000</td>\n",
              "      <td>12086.000000</td>\n",
              "      <td>12086.000000</td>\n",
              "      <td>12086.000000</td>\n",
              "      <td>12086.000000</td>\n",
              "      <td>1.208600e+04</td>\n",
              "      <td>12086.000000</td>\n",
              "      <td>12086.000000</td>\n",
              "      <td>12086.000000</td>\n",
              "      <td>12086.000000</td>\n",
              "      <td>12086.000000</td>\n",
              "      <td>12086.000000</td>\n",
              "      <td>12086.000000</td>\n",
              "      <td>12086.000000</td>\n",
              "      <td>12086.000000</td>\n",
              "      <td>12086.000000</td>\n",
              "    </tr>\n",
              "    <tr>\n",
              "      <th>mean</th>\n",
              "      <td>69.631612</td>\n",
              "      <td>2.516327</td>\n",
              "      <td>39.936883</td>\n",
              "      <td>-9.142018</td>\n",
              "      <td>40.318879</td>\n",
              "      <td>42.605130</td>\n",
              "      <td>1717.630633</td>\n",
              "      <td>65.240194</td>\n",
              "      <td>5.084710e+04</td>\n",
              "      <td>32.796157</td>\n",
              "      <td>22.583009</td>\n",
              "      <td>301.883520</td>\n",
              "      <td>1581.289398</td>\n",
              "      <td>26.718264</td>\n",
              "      <td>7.051547</td>\n",
              "      <td>0.476336</td>\n",
              "      <td>2.416996</td>\n",
              "      <td>0.397527</td>\n",
              "      <td>25.963460</td>\n",
              "    </tr>\n",
              "    <tr>\n",
              "      <th>std</th>\n",
              "      <td>75.760720</td>\n",
              "      <td>41.669548</td>\n",
              "      <td>27.113399</td>\n",
              "      <td>47.372244</td>\n",
              "      <td>42.480072</td>\n",
              "      <td>6.213868</td>\n",
              "      <td>829.485837</td>\n",
              "      <td>19.864346</td>\n",
              "      <td>1.784305e+05</td>\n",
              "      <td>7.671602</td>\n",
              "      <td>51.538676</td>\n",
              "      <td>122.161796</td>\n",
              "      <td>483.125121</td>\n",
              "      <td>31.743622</td>\n",
              "      <td>4.322353</td>\n",
              "      <td>0.521505</td>\n",
              "      <td>10.468374</td>\n",
              "      <td>0.061661</td>\n",
              "      <td>7.634223</td>\n",
              "    </tr>\n",
              "    <tr>\n",
              "      <th>min</th>\n",
              "      <td>-525.530600</td>\n",
              "      <td>-99.000000</td>\n",
              "      <td>-99.000000</td>\n",
              "      <td>-99.000000</td>\n",
              "      <td>-185.860883</td>\n",
              "      <td>-5.000000</td>\n",
              "      <td>500.000000</td>\n",
              "      <td>30.000000</td>\n",
              "      <td>-1.207259e+06</td>\n",
              "      <td>-30.000000</td>\n",
              "      <td>-99.000000</td>\n",
              "      <td>0.000000</td>\n",
              "      <td>-1654.449587</td>\n",
              "      <td>-182.169613</td>\n",
              "      <td>0.000000</td>\n",
              "      <td>-1.000000</td>\n",
              "      <td>-99.000000</td>\n",
              "      <td>0.200009</td>\n",
              "      <td>-21.215639</td>\n",
              "    </tr>\n",
              "    <tr>\n",
              "      <th>25%</th>\n",
              "      <td>22.168108</td>\n",
              "      <td>9.435549</td>\n",
              "      <td>41.635721</td>\n",
              "      <td>-1.188679</td>\n",
              "      <td>40.460385</td>\n",
              "      <td>41.926556</td>\n",
              "      <td>874.600120</td>\n",
              "      <td>41.285062</td>\n",
              "      <td>1.690488e+04</td>\n",
              "      <td>27.407281</td>\n",
              "      <td>40.774240</td>\n",
              "      <td>247.242960</td>\n",
              "      <td>1272.310773</td>\n",
              "      <td>13.886059</td>\n",
              "      <td>3.000000</td>\n",
              "      <td>0.000000</td>\n",
              "      <td>2.702952</td>\n",
              "      <td>0.346909</td>\n",
              "      <td>24.490326</td>\n",
              "    </tr>\n",
              "    <tr>\n",
              "      <th>50%</th>\n",
              "      <td>93.338083</td>\n",
              "      <td>16.177184</td>\n",
              "      <td>43.707769</td>\n",
              "      <td>-0.497108</td>\n",
              "      <td>43.219752</td>\n",
              "      <td>43.553196</td>\n",
              "      <td>2032.285162</td>\n",
              "      <td>70.797759</td>\n",
              "      <td>1.820142e+04</td>\n",
              "      <td>32.658467</td>\n",
              "      <td>42.788389</td>\n",
              "      <td>272.047526</td>\n",
              "      <td>1680.225602</td>\n",
              "      <td>33.090562</td>\n",
              "      <td>7.000000</td>\n",
              "      <td>0.000000</td>\n",
              "      <td>3.434327</td>\n",
              "      <td>0.399637</td>\n",
              "      <td>25.950314</td>\n",
              "    </tr>\n",
              "    <tr>\n",
              "      <th>75%</th>\n",
              "      <td>95.228791</td>\n",
              "      <td>22.744798</td>\n",
              "      <td>45.755861</td>\n",
              "      <td>6.028020</td>\n",
              "      <td>45.840069</td>\n",
              "      <td>45.227942</td>\n",
              "      <td>2479.582123</td>\n",
              "      <td>79.427893</td>\n",
              "      <td>1.164036e+05</td>\n",
              "      <td>38.302580</td>\n",
              "      <td>44.355803</td>\n",
              "      <td>335.347247</td>\n",
              "      <td>1837.302026</td>\n",
              "      <td>41.759021</td>\n",
              "      <td>11.000000</td>\n",
              "      <td>1.000000</td>\n",
              "      <td>4.156727</td>\n",
              "      <td>0.450488</td>\n",
              "      <td>27.458013</td>\n",
              "    </tr>\n",
              "    <tr>\n",
              "      <th>max</th>\n",
              "      <td>525.434211</td>\n",
              "      <td>80.442232</td>\n",
              "      <td>183.299983</td>\n",
              "      <td>170.047823</td>\n",
              "      <td>563.000000</td>\n",
              "      <td>49.858945</td>\n",
              "      <td>2997.013769</td>\n",
              "      <td>99.571599</td>\n",
              "      <td>1.127571e+06</td>\n",
              "      <td>53.927698</td>\n",
              "      <td>191.979747</td>\n",
              "      <td>570.857751</td>\n",
              "      <td>4106.196001</td>\n",
              "      <td>213.260076</td>\n",
              "      <td>14.000000</td>\n",
              "      <td>1.000000</td>\n",
              "      <td>17.847936</td>\n",
              "      <td>0.499985</td>\n",
              "      <td>77.604969</td>\n",
              "    </tr>\n",
              "  </tbody>\n",
              "</table>\n",
              "</div>"
            ],
            "text/plain": [
              "       wind_speed(m/s)  ...  windmill_height(m)\n",
              "count     12086.000000  ...        12086.000000\n",
              "mean         69.631612  ...           25.963460\n",
              "std          75.760720  ...            7.634223\n",
              "min        -525.530600  ...          -21.215639\n",
              "25%          22.168108  ...           24.490326\n",
              "50%          93.338083  ...           25.950314\n",
              "75%          95.228791  ...           27.458013\n",
              "max         525.434211  ...           77.604969\n",
              "\n",
              "[8 rows x 19 columns]"
            ]
          },
          "metadata": {
            "tags": []
          },
          "execution_count": 14
        }
      ]
    },
    {
      "cell_type": "code",
      "metadata": {
        "id": "aTwbFGcS_GsR"
      },
      "source": [
        "#Shuffling the indices \n",
        "np.random.seed(10)\n",
        "n_dev = 3200 #Data for dev set\n",
        "shuffled_indices = np.random.permutation(train_df.shape[0])"
      ],
      "execution_count": null,
      "outputs": []
    },
    {
      "cell_type": "code",
      "metadata": {
        "id": "AikvlUTrlEmW"
      },
      "source": [
        "#Load the train data into numpy arrays\n",
        "x = np.array(train_df.loc[:,'wind_speed(m/s)':'windmill_height(m)'])\n",
        "y = np.array(train_df['windmill_generated_power(kW/h)'])"
      ],
      "execution_count": null,
      "outputs": []
    },
    {
      "cell_type": "code",
      "metadata": {
        "id": "MQXTNeY-_6Sz"
      },
      "source": [
        "#Make train and dev sets\n",
        "x_train = x[shuffled_indices[n_dev:]]\n",
        "y_train = y[shuffled_indices[n_dev:]]\n",
        "\n",
        "x_dev = x[shuffled_indices[:n_dev]]\n",
        "y_dev = y[shuffled_indices[:n_dev]]"
      ],
      "execution_count": null,
      "outputs": []
    },
    {
      "cell_type": "code",
      "metadata": {
        "colab": {
          "base_uri": "https://localhost:8080/"
        },
        "id": "oVR0UZdgARPW",
        "outputId": "1aaaebef-183c-4ca3-9136-6420210f602d"
      },
      "source": [
        "x_train.shape"
      ],
      "execution_count": null,
      "outputs": [
        {
          "output_type": "execute_result",
          "data": {
            "text/plain": [
              "(25000, 19)"
            ]
          },
          "metadata": {
            "tags": []
          },
          "execution_count": 18
        }
      ]
    },
    {
      "cell_type": "code",
      "metadata": {
        "colab": {
          "base_uri": "https://localhost:8080/",
          "height": 378
        },
        "id": "4tvU_wGfAGmw",
        "outputId": "8694d337-e81c-4e91-ead2-ad9c0044bafc"
      },
      "source": [
        "#Plot the graph between various features and Wind power values \n",
        "\n",
        "plt.style.use('seaborn')\n",
        "plt.xlabel('Wind_speed(m/s)')\n",
        "plt.ylabel('Windmill Generated Power')\n",
        "plt.scatter(train_df['wind_speed(m/s)'],train_df['windmill_generated_power(kW/h)'], s = 4)"
      ],
      "execution_count": null,
      "outputs": [
        {
          "output_type": "execute_result",
          "data": {
            "text/plain": [
              "<matplotlib.collections.PathCollection at 0x7f592fa44f10>"
            ]
          },
          "metadata": {
            "tags": []
          },
          "execution_count": 19
        },
        {
          "output_type": "display_data",
          "data": {
            "image/png": "[encoded data removed]",
            "text/plain": [
              "<Figure size 576x396 with 1 Axes>"
            ]
          },
          "metadata": {
            "tags": []
          }
        }
      ]
    },
    {
      "cell_type": "code",
      "metadata": {
        "colab": {
          "base_uri": "https://localhost:8080/",
          "height": 364
        },
        "id": "drRlSYpdDLGM",
        "outputId": "e7b3c110-46f2-4fd1-bcd4-456b9833e99f"
      },
      "source": [
        "plt.style.use('seaborn')\n",
        "plt.xlabel('')\n",
        "plt.ylabel('Windmill Generated Power')\n",
        "plt.scatter(train_df['atmospheric_temperature(°C)'],train_df['windmill_generated_power(kW/h)'], s = 4)"
      ],
      "execution_count": null,
      "outputs": [
        {
          "output_type": "execute_result",
          "data": {
            "text/plain": [
              "<matplotlib.collections.PathCollection at 0x7f592e534ed0>"
            ]
          },
          "metadata": {
            "tags": []
          },
          "execution_count": 20
        },
        {
          "output_type": "display_data",
          "data": {
            "image/png": "[encoded data removed]",
            "text/plain": [
              "<Figure size 576x396 with 1 Axes>"
            ]
          },
          "metadata": {
            "tags": []
          }
        }
      ]
    },
    {
      "cell_type": "code",
      "metadata": {
        "id": "5ysMNcjt52xJ"
      },
      "source": [
        "#Reshape y_train\n",
        "y_train = y_train.reshape(-1,1)\n",
        "y_dev = y_dev.reshape(-1,1)"
      ],
      "execution_count": null,
      "outputs": []
    },
    {
      "cell_type": "code",
      "metadata": {
        "id": "c0nJ1uzZlvwB"
      },
      "source": [
        "#Load the test data into numpy arrays\n",
        "x_test = np.array(test_df.loc[:,'wind_speed(m/s)':'windmill_height(m)'])"
      ],
      "execution_count": null,
      "outputs": []
    },
    {
      "cell_type": "code",
      "metadata": {
        "id": "zVRrUS0Cxjr8"
      },
      "source": [
        "#Normalizing the data now\n",
        "x_train = (x_train - x_train.mean(axis = 0))/x_train.std(axis = 0)\n",
        "x_dev = (x_dev - x_dev.mean(axis = 0))/ x_dev.std(axis = 0)\n",
        "x_test = (x_test - x_test.mean(axis = 0))/x_test.std(axis = 0)"
      ],
      "execution_count": null,
      "outputs": []
    },
    {
      "cell_type": "code",
      "metadata": {
        "id": "8M8h9IQix2OB"
      },
      "source": [
        "import torch\n",
        "import torch.nn as nn \n",
        "from torch.utils.data import DataLoader, Dataset"
      ],
      "execution_count": null,
      "outputs": []
    },
    {
      "cell_type": "code",
      "metadata": {
        "id": "82q-zWCMx3Zj"
      },
      "source": [
        "#Making the input data a Pytorch Dataset\n",
        "class PowerDataset(Dataset):\n",
        "  def __init__(self,x,y):\n",
        "    x = x.astype(np.float32)\n",
        "    y = y.astype(np.float32)\n",
        "    #Make the input data a torch tensor\n",
        "    self.x = torch.from_numpy(x)\n",
        "    self.y = torch.from_numpy(y)\n",
        "\n",
        "  def __getitem__(self,index):\n",
        "    return self.x[index],self.y[index]\n",
        "\n",
        "  def __len__(self):\n",
        "    return self.x.shape[0]"
      ],
      "execution_count": null,
      "outputs": []
    },
    {
      "cell_type": "code",
      "metadata": {
        "id": "Se4hL7LczNG6"
      },
      "source": [
        "train_dataset = PowerDataset(x_train, y_train)\n",
        "dev_dataset = PowerDataset(x_dev , y_dev)"
      ],
      "execution_count": null,
      "outputs": []
    },
    {
      "cell_type": "code",
      "metadata": {
        "colab": {
          "base_uri": "https://localhost:8080/"
        },
        "id": "Bk_O8BX7zyVe",
        "outputId": "9ce6195f-01ef-4d1b-8042-6ebddccdcc66"
      },
      "source": [
        "train_dataset[0]"
      ],
      "execution_count": null,
      "outputs": [
        {
          "output_type": "execute_result",
          "data": {
            "text/plain": [
              "(tensor([ 0.3159, -2.4138,  0.0095,  1.6894, -0.0499, -0.1811, -0.8036,  0.0404,\n",
              "         -0.1848, -0.1521,  0.3842,  1.7560,  0.1905, -0.1727,  1.6161, -0.9105,\n",
              "          0.2147, -1.1635,  1.3555]), tensor([2.8224]))"
            ]
          },
          "metadata": {
            "tags": []
          },
          "execution_count": 27
        }
      ]
    },
    {
      "cell_type": "code",
      "metadata": {
        "id": "I5bmOizPzzgj"
      },
      "source": [
        "#Make the model now\n",
        "class PowerPredictor(nn.Module):\n",
        "  def __init__(self,input_features,num_outputs,neuronslist):\n",
        "    super().__init__()\n",
        "    self.input_features = input_features\n",
        "    self.num_outputs = num_outputs\n",
        "    self.neuronslist = neuronslist\n",
        "    '''Here,\n",
        "    input_features : Number of different features in dataset\n",
        "    num_outputs : Number of outputs\n",
        "    neuronslist : List of number of hidden units per layer \n",
        "                  (Since there are three layers so there will be three elements in this list'''\n",
        "\n",
        "            \n",
        "    self.linear1 = nn.Linear(self.input_features,self.neuronslist[0])\n",
        "    self.act1 = nn.Softplus()\n",
        "\n",
        "    self.linear3 = nn.Linear(self.neuronslist[0], self.neuronslist[1])\n",
        "    self.act3 = nn.Softplus()\n",
        "\n",
        "    self.linear6 = nn.Linear(self.neuronslist[1], self.num_outputs)\n",
        "    self.act6 = nn.Softplus()\n",
        "\n",
        "  def forward(self,x):\n",
        "    out = self.act1(self.linear1(x))\n",
        "    #out = self.act2(self.linear2(out))\n",
        "    out = self.act3(self.linear3(out))\n",
        "    #out = self.act4(self.linear4(out))\n",
        "    #out = self.act5(self.linear5(out))\n",
        "    out = self.act6(self.linear6(out))\n",
        "    return out"
      ],
      "execution_count": null,
      "outputs": []
    },
    {
      "cell_type": "code",
      "metadata": {
        "colab": {
          "base_uri": "https://localhost:8080/"
        },
        "id": "ZLjIhdHW3sdO",
        "outputId": "b208cf69-9f4e-4732-8fbb-8a815a7c9fa4"
      },
      "source": [
        "model = PowerPredictor(input_features=19,num_outputs=1,neuronslist=[16,8])\n",
        "model.to('cuda')"
      ],
      "execution_count": null,
      "outputs": [
        {
          "output_type": "execute_result",
          "data": {
            "text/plain": [
              "PowerPredictor(\n",
              "  (linear1): Linear(in_features=19, out_features=16, bias=True)\n",
              "  (act1): Softplus(beta=1, threshold=20)\n",
              "  (linear3): Linear(in_features=16, out_features=8, bias=True)\n",
              "  (act3): Softplus(beta=1, threshold=20)\n",
              "  (linear6): Linear(in_features=8, out_features=1, bias=True)\n",
              "  (act6): Softplus(beta=1, threshold=20)\n",
              ")"
            ]
          },
          "metadata": {
            "tags": []
          },
          "execution_count": 85
        }
      ]
    },
    {
      "cell_type": "code",
      "metadata": {
        "id": "d-1LTx9jRkp_"
      },
      "source": [
        "#model.load_state_dict(torch.load('/content/drive/MyDrive/HackerEarth Power Generated Challenge /PowerPredictionWeights.pt'))"
      ],
      "execution_count": null,
      "outputs": []
    },
    {
      "cell_type": "code",
      "metadata": {
        "id": "gts8Ggzo2b4J"
      },
      "source": [
        "#Making the data loaders now\n",
        "batch_size = 256\n",
        "train_loader = DataLoader(train_dataset,batch_size)\n",
        "dev_loader = DataLoader(dev_dataset, batch_size)"
      ],
      "execution_count": null,
      "outputs": []
    },
    {
      "cell_type": "code",
      "metadata": {
        "id": "ZqM7tujl25mi"
      },
      "source": [
        "#Define the loss function\n",
        "loss_fn = nn.MSELoss() #The loss defined for the problem question is 100 multiplied by the mse loss that it will be incorporated later"
      ],
      "execution_count": null,
      "outputs": []
    },
    {
      "cell_type": "code",
      "metadata": {
        "id": "6KyEM8LD3PXR"
      },
      "source": [
        "opt = torch.optim.SGD(model.parameters(), lr = (1e-3))"
      ],
      "execution_count": null,
      "outputs": []
    },
    {
      "cell_type": "code",
      "metadata": {
        "colab": {
          "base_uri": "https://localhost:8080/",
          "height": 481
        },
        "id": "kNnxSSfF4Hd0",
        "outputId": "9b0ad0ef-71a2-4f95-9933-9ea89fdfc487"
      },
      "source": [
        "model.train()\n",
        "num_epochs = 500\n",
        "iters = []\n",
        "loss_per_epoch = []\n",
        "for epochs in range(1,num_epochs+1):\n",
        "  loss_epoch = 0.0\n",
        "  for inputs, outputs in train_loader:\n",
        "    inputs , outputs = inputs.to('cuda'), outputs.to('cuda')\n",
        "    preds = model(inputs)\n",
        "    loss = loss_fn(preds.view(-1),outputs.view(-1))\n",
        "    loss.backward()\n",
        "    opt.step()\n",
        "    opt.zero_grad()\n",
        "    loss_epoch += loss\n",
        "  loss_per_epoch.append(loss_epoch)\n",
        "  iters.append(epochs)\n",
        "  if epochs % 5 == 0 :\n",
        "    print(\"[{}/{}] Loss : {}\".format(epochs,num_epochs,loss_epoch))"
      ],
      "execution_count": null,
      "outputs": [
        {
          "output_type": "stream",
          "text": [
            "[5/500] Loss : 480.5413818359375\n",
            "[10/500] Loss : 442.5589599609375\n",
            "[15/500] Loss : 422.79779052734375\n",
            "[20/500] Loss : 405.40557861328125\n",
            "[25/500] Loss : 387.23675537109375\n",
            "[30/500] Loss : 367.83880615234375\n",
            "[35/500] Loss : 347.6612243652344\n",
            "[40/500] Loss : 327.0813293457031\n"
          ],
          "name": "stdout"
        },
        {
          "output_type": "error",
          "ename": "KeyboardInterrupt",
          "evalue": "ignored",
          "traceback": [
            "\u001b[0;31m---------------------------------------------------------------------------\u001b[0m",
            "\u001b[0;31mKeyboardInterrupt\u001b[0m                         Traceback (most recent call last)",
            "\u001b[0;32m<ipython-input-90-0c2677373174>\u001b[0m in \u001b[0;36m<module>\u001b[0;34m()\u001b[0m\n\u001b[1;32m      9\u001b[0m     \u001b[0mpreds\u001b[0m \u001b[0;34m=\u001b[0m \u001b[0mmodel\u001b[0m\u001b[0;34m(\u001b[0m\u001b[0minputs\u001b[0m\u001b[0;34m)\u001b[0m\u001b[0;34m\u001b[0m\u001b[0;34m\u001b[0m\u001b[0m\n\u001b[1;32m     10\u001b[0m     \u001b[0mloss\u001b[0m \u001b[0;34m=\u001b[0m \u001b[0mloss_fn\u001b[0m\u001b[0;34m(\u001b[0m\u001b[0mpreds\u001b[0m\u001b[0;34m.\u001b[0m\u001b[0mview\u001b[0m\u001b[0;34m(\u001b[0m\u001b[0;34m-\u001b[0m\u001b[0;36m1\u001b[0m\u001b[0;34m)\u001b[0m\u001b[0;34m,\u001b[0m\u001b[0moutputs\u001b[0m\u001b[0;34m.\u001b[0m\u001b[0mview\u001b[0m\u001b[0;34m(\u001b[0m\u001b[0;34m-\u001b[0m\u001b[0;36m1\u001b[0m\u001b[0;34m)\u001b[0m\u001b[0;34m)\u001b[0m\u001b[0;34m\u001b[0m\u001b[0;34m\u001b[0m\u001b[0m\n\u001b[0;32m---> 11\u001b[0;31m     \u001b[0mloss\u001b[0m\u001b[0;34m.\u001b[0m\u001b[0mbackward\u001b[0m\u001b[0;34m(\u001b[0m\u001b[0;34m)\u001b[0m\u001b[0;34m\u001b[0m\u001b[0;34m\u001b[0m\u001b[0m\n\u001b[0m\u001b[1;32m     12\u001b[0m     \u001b[0mopt\u001b[0m\u001b[0;34m.\u001b[0m\u001b[0mstep\u001b[0m\u001b[0;34m(\u001b[0m\u001b[0;34m)\u001b[0m\u001b[0;34m\u001b[0m\u001b[0;34m\u001b[0m\u001b[0m\n\u001b[1;32m     13\u001b[0m     \u001b[0mopt\u001b[0m\u001b[0;34m.\u001b[0m\u001b[0mzero_grad\u001b[0m\u001b[0;34m(\u001b[0m\u001b[0;34m)\u001b[0m\u001b[0;34m\u001b[0m\u001b[0;34m\u001b[0m\u001b[0m\n",
            "\u001b[0;32m/usr/local/lib/python3.7/dist-packages/torch/tensor.py\u001b[0m in \u001b[0;36mbackward\u001b[0;34m(self, gradient, retain_graph, create_graph, inputs)\u001b[0m\n\u001b[1;32m    243\u001b[0m                 \u001b[0mcreate_graph\u001b[0m\u001b[0;34m=\u001b[0m\u001b[0mcreate_graph\u001b[0m\u001b[0;34m,\u001b[0m\u001b[0;34m\u001b[0m\u001b[0;34m\u001b[0m\u001b[0m\n\u001b[1;32m    244\u001b[0m                 inputs=inputs)\n\u001b[0;32m--> 245\u001b[0;31m         \u001b[0mtorch\u001b[0m\u001b[0;34m.\u001b[0m\u001b[0mautograd\u001b[0m\u001b[0;34m.\u001b[0m\u001b[0mbackward\u001b[0m\u001b[0;34m(\u001b[0m\u001b[0mself\u001b[0m\u001b[0;34m,\u001b[0m \u001b[0mgradient\u001b[0m\u001b[0;34m,\u001b[0m \u001b[0mretain_graph\u001b[0m\u001b[0;34m,\u001b[0m \u001b[0mcreate_graph\u001b[0m\u001b[0;34m,\u001b[0m \u001b[0minputs\u001b[0m\u001b[0;34m=\u001b[0m\u001b[0minputs\u001b[0m\u001b[0;34m)\u001b[0m\u001b[0;34m\u001b[0m\u001b[0;34m\u001b[0m\u001b[0m\n\u001b[0m\u001b[1;32m    246\u001b[0m \u001b[0;34m\u001b[0m\u001b[0m\n\u001b[1;32m    247\u001b[0m     \u001b[0;32mdef\u001b[0m \u001b[0mregister_hook\u001b[0m\u001b[0;34m(\u001b[0m\u001b[0mself\u001b[0m\u001b[0;34m,\u001b[0m \u001b[0mhook\u001b[0m\u001b[0;34m)\u001b[0m\u001b[0;34m:\u001b[0m\u001b[0;34m\u001b[0m\u001b[0;34m\u001b[0m\u001b[0m\n",
            "\u001b[0;31mKeyboardInterrupt\u001b[0m: "
          ]
        }
      ]
    },
    {
      "cell_type": "code",
      "metadata": {
        "colab": {
          "base_uri": "https://localhost:8080/"
        },
        "id": "NdT4IhhrBPsg",
        "outputId": "41d1d92f-5339-4487-9ece-a7bc48504570"
      },
      "source": [
        "#Checking the loss on dev set\n",
        "model.eval()\n",
        "loss_dev = 0.0\n",
        "for inputs_dev , outputs_dev in dev_loader:\n",
        "  inputs_dev , outputs_dev  = inputs_dev.to('cuda'), outputs_dev.to('cuda')\n",
        "  preds_dev = model(inputs)\n",
        "  loss = loss_fn(preds_dev.view(-1),outputs.view(-1))\n",
        "  loss_dev += loss\n",
        "print(\"Loss on dev set : {}\".format(loss_dev))"
      ],
      "execution_count": null,
      "outputs": [
        {
          "output_type": "stream",
          "text": [
            "Loss on dev set : 4.178446292877197\n"
          ],
          "name": "stdout"
        }
      ]
    },
    {
      "cell_type": "code",
      "metadata": {
        "id": "or1cwE8N49RM",
        "colab": {
          "base_uri": "https://localhost:8080/",
          "height": 393
        },
        "outputId": "75bbf8a9-4e5c-46cc-bbcf-3472737a62fe"
      },
      "source": [
        "#Plot the graph of loss with iterations\n",
        "plt.title('Loss with iterations')\n",
        "plt.style.use('seaborn')\n",
        "plt.xlabel('Iterations')\n",
        "plt.ylabel('Loss')\n",
        "plt.plot(iters,loss_per_epoch)"
      ],
      "execution_count": null,
      "outputs": [
        {
          "output_type": "execute_result",
          "data": {
            "text/plain": [
              "[<matplotlib.lines.Line2D at 0x7f515d54b810>]"
            ]
          },
          "metadata": {
            "tags": []
          },
          "execution_count": 36
        },
        {
          "output_type": "display_data",
          "data": {
            "image/png": "[encoded data removed]",
            "text/plain": [
              "<Figure size 576x396 with 1 Axes>"
            ]
          },
          "metadata": {
            "tags": []
          }
        }
      ]
    },
    {
      "cell_type": "code",
      "metadata": {
        "id": "Y1wwADZZ6Gsk"
      },
      "source": [
        "#Save the model\n",
        "PATH = '/content/drive/MyDrive/HackerEarth Power Generated Challenge /PowerPredictionWeightsOneSoftplus.pt'\n",
        "torch.save(model.state_dict(),PATH)"
      ],
      "execution_count": null,
      "outputs": []
    },
    {
      "cell_type": "code",
      "metadata": {
        "id": "pQx-bO51CNoZ"
      },
      "source": [
        "#Preparing the test data\n",
        "x_test = x_test.astype(np.float32)\n",
        "x_test = torch.from_numpy(x_test)\n",
        "x_test = x_test.to('cuda')"
      ],
      "execution_count": null,
      "outputs": []
    },
    {
      "cell_type": "code",
      "metadata": {
        "id": "_0q21gX0hTZx"
      },
      "source": [
        "#Evaluate the model on test dataset\n",
        "model.eval()\n",
        "preds_test = model(x_test)"
      ],
      "execution_count": null,
      "outputs": []
    },
    {
      "cell_type": "code",
      "metadata": {
        "colab": {
          "base_uri": "https://localhost:8080/"
        },
        "id": "a3PTIPisTGWk",
        "outputId": "1dc574d1-c278-4e4d-940b-1597997bef60"
      },
      "source": [
        "preds_test.shape"
      ],
      "execution_count": null,
      "outputs": [
        {
          "output_type": "execute_result",
          "data": {
            "text/plain": [
              "torch.Size([12086, 1])"
            ]
          },
          "metadata": {
            "tags": []
          },
          "execution_count": 40
        }
      ]
    },
    {
      "cell_type": "code",
      "metadata": {
        "id": "vTkQU1DBTYbY"
      },
      "source": [
        "preds_test_df = test_df.loc[:,'tracking_id':'datetime']"
      ],
      "execution_count": null,
      "outputs": []
    },
    {
      "cell_type": "code",
      "metadata": {
        "id": "4OdHO7OYT8Wb"
      },
      "source": [
        "preds_test_df['windmill_generated_power(kW/h)'] = preds_test.cpu().detach().numpy()"
      ],
      "execution_count": null,
      "outputs": []
    },
    {
      "cell_type": "code",
      "metadata": {
        "colab": {
          "base_uri": "https://localhost:8080/",
          "height": 284
        },
        "id": "9JmOgciyUAoE",
        "outputId": "73b0f6f6-1b1f-4d31-9627-e9e52c802ec6"
      },
      "source": [
        "preds_test_df.describe()"
      ],
      "execution_count": null,
      "outputs": [
        {
          "output_type": "execute_result",
          "data": {
            "text/html": [
              "<div>\n",
              "<style scoped>\n",
              "    .dataframe tbody tr th:only-of-type {\n",
              "        vertical-align: middle;\n",
              "    }\n",
              "\n",
              "    .dataframe tbody tr th {\n",
              "        vertical-align: top;\n",
              "    }\n",
              "\n",
              "    .dataframe thead th {\n",
              "        text-align: right;\n",
              "    }\n",
              "</style>\n",
              "<table border=\"1\" class=\"dataframe\">\n",
              "  <thead>\n",
              "    <tr style=\"text-align: right;\">\n",
              "      <th></th>\n",
              "      <th>windmill_generated_power(kW/h)</th>\n",
              "    </tr>\n",
              "  </thead>\n",
              "  <tbody>\n",
              "    <tr>\n",
              "      <th>count</th>\n",
              "      <td>12086.000000</td>\n",
              "    </tr>\n",
              "    <tr>\n",
              "      <th>mean</th>\n",
              "      <td>6.073948</td>\n",
              "    </tr>\n",
              "    <tr>\n",
              "      <th>std</th>\n",
              "      <td>2.520210</td>\n",
              "    </tr>\n",
              "    <tr>\n",
              "      <th>min</th>\n",
              "      <td>1.575597</td>\n",
              "    </tr>\n",
              "    <tr>\n",
              "      <th>25%</th>\n",
              "      <td>4.291989</td>\n",
              "    </tr>\n",
              "    <tr>\n",
              "      <th>50%</th>\n",
              "      <td>5.457126</td>\n",
              "    </tr>\n",
              "    <tr>\n",
              "      <th>75%</th>\n",
              "      <td>8.073662</td>\n",
              "    </tr>\n",
              "    <tr>\n",
              "      <th>max</th>\n",
              "      <td>13.795196</td>\n",
              "    </tr>\n",
              "  </tbody>\n",
              "</table>\n",
              "</div>"
            ],
            "text/plain": [
              "       windmill_generated_power(kW/h)\n",
              "count                    12086.000000\n",
              "mean                         6.073948\n",
              "std                          2.520210\n",
              "min                          1.575597\n",
              "25%                          4.291989\n",
              "50%                          5.457126\n",
              "75%                          8.073662\n",
              "max                         13.795196"
            ]
          },
          "metadata": {
            "tags": []
          },
          "execution_count": 43
        }
      ]
    },
    {
      "cell_type": "code",
      "metadata": {
        "colab": {
          "base_uri": "https://localhost:8080/",
          "height": 321
        },
        "id": "8XxeJEl2UYbh",
        "outputId": "2e75d665-3484-43c8-c93e-d1e2369df1e6"
      },
      "source": [
        "train_df.describe()"
      ],
      "execution_count": null,
      "outputs": [
        {
          "output_type": "execute_result",
          "data": {
            "text/html": [
              "<div>\n",
              "<style scoped>\n",
              "    .dataframe tbody tr th:only-of-type {\n",
              "        vertical-align: middle;\n",
              "    }\n",
              "\n",
              "    .dataframe tbody tr th {\n",
              "        vertical-align: top;\n",
              "    }\n",
              "\n",
              "    .dataframe thead th {\n",
              "        text-align: right;\n",
              "    }\n",
              "</style>\n",
              "<table border=\"1\" class=\"dataframe\">\n",
              "  <thead>\n",
              "    <tr style=\"text-align: right;\">\n",
              "      <th></th>\n",
              "      <th>wind_speed(m/s)</th>\n",
              "      <th>atmospheric_temperature(°C)</th>\n",
              "      <th>shaft_temperature(°C)</th>\n",
              "      <th>blades_angle(°)</th>\n",
              "      <th>gearbox_temperature(°C)</th>\n",
              "      <th>engine_temperature(°C)</th>\n",
              "      <th>motor_torque(N-m)</th>\n",
              "      <th>generator_temperature(°C)</th>\n",
              "      <th>atmospheric_pressure(Pascal)</th>\n",
              "      <th>area_temperature(°C)</th>\n",
              "      <th>windmill_body_temperature(°C)</th>\n",
              "      <th>wind_direction(°)</th>\n",
              "      <th>resistance(ohm)</th>\n",
              "      <th>rotor_torque(N-m)</th>\n",
              "      <th>turbine_status</th>\n",
              "      <th>cloud_level</th>\n",
              "      <th>blade_length(m)</th>\n",
              "      <th>blade_breadth(m)</th>\n",
              "      <th>windmill_height(m)</th>\n",
              "      <th>windmill_generated_power(kW/h)</th>\n",
              "    </tr>\n",
              "  </thead>\n",
              "  <tbody>\n",
              "    <tr>\n",
              "      <th>count</th>\n",
              "      <td>28200.000000</td>\n",
              "      <td>28200.000000</td>\n",
              "      <td>28200.000000</td>\n",
              "      <td>28200.000000</td>\n",
              "      <td>28200.000000</td>\n",
              "      <td>28200.000000</td>\n",
              "      <td>28200.000000</td>\n",
              "      <td>28200.000000</td>\n",
              "      <td>2.820000e+04</td>\n",
              "      <td>28200.000000</td>\n",
              "      <td>28200.000000</td>\n",
              "      <td>28200.000000</td>\n",
              "      <td>28200.000000</td>\n",
              "      <td>28200.000000</td>\n",
              "      <td>28200.000000</td>\n",
              "      <td>28200.000000</td>\n",
              "      <td>28200.000000</td>\n",
              "      <td>28200.000000</td>\n",
              "      <td>28200.000000</td>\n",
              "      <td>28200.000000</td>\n",
              "    </tr>\n",
              "    <tr>\n",
              "      <th>mean</th>\n",
              "      <td>69.271978</td>\n",
              "      <td>2.306757</td>\n",
              "      <td>40.085642</td>\n",
              "      <td>-9.583888</td>\n",
              "      <td>41.027833</td>\n",
              "      <td>42.614626</td>\n",
              "      <td>1711.093020</td>\n",
              "      <td>65.030283</td>\n",
              "      <td>4.982589e+04</td>\n",
              "      <td>32.735091</td>\n",
              "      <td>22.642152</td>\n",
              "      <td>300.471910</td>\n",
              "      <td>1575.563653</td>\n",
              "      <td>25.994462</td>\n",
              "      <td>7.013617</td>\n",
              "      <td>0.475355</td>\n",
              "      <td>2.470631</td>\n",
              "      <td>0.397249</td>\n",
              "      <td>25.888413</td>\n",
              "      <td>6.127844</td>\n",
              "    </tr>\n",
              "    <tr>\n",
              "      <th>std</th>\n",
              "      <td>75.942703</td>\n",
              "      <td>41.800134</td>\n",
              "      <td>27.203482</td>\n",
              "      <td>47.740964</td>\n",
              "      <td>43.662833</td>\n",
              "      <td>6.123271</td>\n",
              "      <td>826.906441</td>\n",
              "      <td>19.812632</td>\n",
              "      <td>1.785746e+05</td>\n",
              "      <td>7.703391</td>\n",
              "      <td>52.384616</td>\n",
              "      <td>122.087135</td>\n",
              "      <td>483.318211</td>\n",
              "      <td>32.109132</td>\n",
              "      <td>4.321050</td>\n",
              "      <td>0.520200</td>\n",
              "      <td>10.217120</td>\n",
              "      <td>0.061158</td>\n",
              "      <td>7.698407</td>\n",
              "      <td>2.687783</td>\n",
              "    </tr>\n",
              "    <tr>\n",
              "      <th>min</th>\n",
              "      <td>-496.211029</td>\n",
              "      <td>-99.000000</td>\n",
              "      <td>-99.000000</td>\n",
              "      <td>-146.259543</td>\n",
              "      <td>-244.974098</td>\n",
              "      <td>3.167151</td>\n",
              "      <td>500.000000</td>\n",
              "      <td>33.893779</td>\n",
              "      <td>-1.188624e+06</td>\n",
              "      <td>-30.000000</td>\n",
              "      <td>-999.000000</td>\n",
              "      <td>0.000000</td>\n",
              "      <td>-1005.222988</td>\n",
              "      <td>-136.732217</td>\n",
              "      <td>0.000000</td>\n",
              "      <td>-1.000000</td>\n",
              "      <td>-99.000000</td>\n",
              "      <td>0.200111</td>\n",
              "      <td>-30.295253</td>\n",
              "      <td>0.962305</td>\n",
              "    </tr>\n",
              "    <tr>\n",
              "      <th>25%</th>\n",
              "      <td>21.250907</td>\n",
              "      <td>9.383737</td>\n",
              "      <td>41.633671</td>\n",
              "      <td>-1.194486</td>\n",
              "      <td>40.557993</td>\n",
              "      <td>41.911899</td>\n",
              "      <td>870.621152</td>\n",
              "      <td>41.200625</td>\n",
              "      <td>1.689269e+04</td>\n",
              "      <td>27.311644</td>\n",
              "      <td>40.851429</td>\n",
              "      <td>246.793261</td>\n",
              "      <td>1268.141402</td>\n",
              "      <td>13.829618</td>\n",
              "      <td>3.000000</td>\n",
              "      <td>0.000000</td>\n",
              "      <td>2.735787</td>\n",
              "      <td>0.347445</td>\n",
              "      <td>24.469380</td>\n",
              "      <td>4.076167</td>\n",
              "    </tr>\n",
              "    <tr>\n",
              "      <th>50%</th>\n",
              "      <td>93.302129</td>\n",
              "      <td>16.102410</td>\n",
              "      <td>43.686082</td>\n",
              "      <td>-0.495608</td>\n",
              "      <td>43.221735</td>\n",
              "      <td>43.525297</td>\n",
              "      <td>2031.849540</td>\n",
              "      <td>70.729533</td>\n",
              "      <td>1.819113e+04</td>\n",
              "      <td>32.605195</td>\n",
              "      <td>42.786832</td>\n",
              "      <td>271.427656</td>\n",
              "      <td>1678.238404</td>\n",
              "      <td>32.977192</td>\n",
              "      <td>7.000000</td>\n",
              "      <td>0.000000</td>\n",
              "      <td>3.453333</td>\n",
              "      <td>0.398591</td>\n",
              "      <td>25.957739</td>\n",
              "      <td>5.764710</td>\n",
              "    </tr>\n",
              "    <tr>\n",
              "      <th>75%</th>\n",
              "      <td>95.248020</td>\n",
              "      <td>22.575311</td>\n",
              "      <td>45.673234</td>\n",
              "      <td>5.370015</td>\n",
              "      <td>45.879212</td>\n",
              "      <td>45.173397</td>\n",
              "      <td>2462.164052</td>\n",
              "      <td>78.939478</td>\n",
              "      <td>1.164252e+05</td>\n",
              "      <td>38.232387</td>\n",
              "      <td>44.325305</td>\n",
              "      <td>332.325695</td>\n",
              "      <td>1829.044723</td>\n",
              "      <td>41.337104</td>\n",
              "      <td>11.000000</td>\n",
              "      <td>1.000000</td>\n",
              "      <td>4.156647</td>\n",
              "      <td>0.449354</td>\n",
              "      <td>27.451080</td>\n",
              "      <td>7.931295</td>\n",
              "    </tr>\n",
              "    <tr>\n",
              "      <th>max</th>\n",
              "      <td>601.455670</td>\n",
              "      <td>80.217444</td>\n",
              "      <td>169.820455</td>\n",
              "      <td>165.932123</td>\n",
              "      <td>999.000000</td>\n",
              "      <td>50.000000</td>\n",
              "      <td>3000.000000</td>\n",
              "      <td>100.000000</td>\n",
              "      <td>1.272552e+06</td>\n",
              "      <td>55.000000</td>\n",
              "      <td>323.000000</td>\n",
              "      <td>569.966479</td>\n",
              "      <td>4693.481933</td>\n",
              "      <td>236.883264</td>\n",
              "      <td>14.000000</td>\n",
              "      <td>1.000000</td>\n",
              "      <td>18.209800</td>\n",
              "      <td>0.499975</td>\n",
              "      <td>78.351335</td>\n",
              "      <td>20.175358</td>\n",
              "    </tr>\n",
              "  </tbody>\n",
              "</table>\n",
              "</div>"
            ],
            "text/plain": [
              "       wind_speed(m/s)  ...  windmill_generated_power(kW/h)\n",
              "count     28200.000000  ...                    28200.000000\n",
              "mean         69.271978  ...                        6.127844\n",
              "std          75.942703  ...                        2.687783\n",
              "min        -496.211029  ...                        0.962305\n",
              "25%          21.250907  ...                        4.076167\n",
              "50%          93.302129  ...                        5.764710\n",
              "75%          95.248020  ...                        7.931295\n",
              "max         601.455670  ...                       20.175358\n",
              "\n",
              "[8 rows x 20 columns]"
            ]
          },
          "metadata": {
            "tags": []
          },
          "execution_count": 44
        }
      ]
    },
    {
      "cell_type": "code",
      "metadata": {
        "id": "e01mqnBhUfH-"
      },
      "source": [
        "preds_test_df.to_csv('preds_test.csv', index= False)"
      ],
      "execution_count": null,
      "outputs": []
    },
    {
      "cell_type": "code",
      "metadata": {
        "id": "taIXf1F8XtmZ",
        "colab": {
          "base_uri": "https://localhost:8080/",
          "height": 402
        },
        "outputId": "e68e9e87-d1bd-4204-a967-85d233dc5aa2"
      },
      "source": [
        "preds_test_df"
      ],
      "execution_count": null,
      "outputs": [
        {
          "output_type": "execute_result",
          "data": {
            "text/html": [
              "<div>\n",
              "<style scoped>\n",
              "    .dataframe tbody tr th:only-of-type {\n",
              "        vertical-align: middle;\n",
              "    }\n",
              "\n",
              "    .dataframe tbody tr th {\n",
              "        vertical-align: top;\n",
              "    }\n",
              "\n",
              "    .dataframe thead th {\n",
              "        text-align: right;\n",
              "    }\n",
              "</style>\n",
              "<table border=\"1\" class=\"dataframe\">\n",
              "  <thead>\n",
              "    <tr style=\"text-align: right;\">\n",
              "      <th></th>\n",
              "      <th>tracking_id</th>\n",
              "      <th>datetime</th>\n",
              "      <th>windmill_generated_power(kW/h)</th>\n",
              "    </tr>\n",
              "  </thead>\n",
              "  <tbody>\n",
              "    <tr>\n",
              "      <th>0</th>\n",
              "      <td>WM_19817</td>\n",
              "      <td>2019-04-17 08:53:20</td>\n",
              "      <td>3.030280</td>\n",
              "    </tr>\n",
              "    <tr>\n",
              "      <th>1</th>\n",
              "      <td>WM_18723</td>\n",
              "      <td>2019-03-30 07:43:20</td>\n",
              "      <td>2.670210</td>\n",
              "    </tr>\n",
              "    <tr>\n",
              "      <th>2</th>\n",
              "      <td>WM_34552</td>\n",
              "      <td>2019-08-10 11:33:20</td>\n",
              "      <td>2.857527</td>\n",
              "    </tr>\n",
              "    <tr>\n",
              "      <th>3</th>\n",
              "      <td>WM_28570</td>\n",
              "      <td>2019-06-26 03:53:20</td>\n",
              "      <td>6.444329</td>\n",
              "    </tr>\n",
              "    <tr>\n",
              "      <th>4</th>\n",
              "      <td>WM_36934</td>\n",
              "      <td>2019-08-27 16:43:20</td>\n",
              "      <td>3.911586</td>\n",
              "    </tr>\n",
              "    <tr>\n",
              "      <th>...</th>\n",
              "      <td>...</td>\n",
              "      <td>...</td>\n",
              "      <td>...</td>\n",
              "    </tr>\n",
              "    <tr>\n",
              "      <th>12081</th>\n",
              "      <td>WM_13376</td>\n",
              "      <td>2019-02-12 11:33:20</td>\n",
              "      <td>6.309109</td>\n",
              "    </tr>\n",
              "    <tr>\n",
              "      <th>12082</th>\n",
              "      <td>WM_1630</td>\n",
              "      <td>2018-11-12 17:33:20</td>\n",
              "      <td>4.396070</td>\n",
              "    </tr>\n",
              "    <tr>\n",
              "      <th>12083</th>\n",
              "      <td>WM_24703</td>\n",
              "      <td>2019-05-27 11:53:20</td>\n",
              "      <td>5.838830</td>\n",
              "    </tr>\n",
              "    <tr>\n",
              "      <th>12084</th>\n",
              "      <td>WM_22893</td>\n",
              "      <td>2019-05-13 21:53:20</td>\n",
              "      <td>4.546552</td>\n",
              "    </tr>\n",
              "    <tr>\n",
              "      <th>12085</th>\n",
              "      <td>WM_14513</td>\n",
              "      <td>2019-02-20 23:43:20</td>\n",
              "      <td>9.606125</td>\n",
              "    </tr>\n",
              "  </tbody>\n",
              "</table>\n",
              "<p>12086 rows × 3 columns</p>\n",
              "</div>"
            ],
            "text/plain": [
              "      tracking_id             datetime  windmill_generated_power(kW/h)\n",
              "0        WM_19817  2019-04-17 08:53:20                        3.030280\n",
              "1        WM_18723  2019-03-30 07:43:20                        2.670210\n",
              "2        WM_34552  2019-08-10 11:33:20                        2.857527\n",
              "3        WM_28570  2019-06-26 03:53:20                        6.444329\n",
              "4        WM_36934  2019-08-27 16:43:20                        3.911586\n",
              "...           ...                  ...                             ...\n",
              "12081    WM_13376  2019-02-12 11:33:20                        6.309109\n",
              "12082     WM_1630  2018-11-12 17:33:20                        4.396070\n",
              "12083    WM_24703  2019-05-27 11:53:20                        5.838830\n",
              "12084    WM_22893  2019-05-13 21:53:20                        4.546552\n",
              "12085    WM_14513  2019-02-20 23:43:20                        9.606125\n",
              "\n",
              "[12086 rows x 3 columns]"
            ]
          },
          "metadata": {
            "tags": []
          },
          "execution_count": 46
        }
      ]
    },
    {
      "cell_type": "code",
      "metadata": {
        "id": "offvO3JQCjlr"
      },
      "source": [
        "test_df"
      ],
      "execution_count": null,
      "outputs": []
    },
    {
      "cell_type": "code",
      "metadata": {
        "id": "cmNIhJRGLU8U"
      },
      "source": [
        ""
      ],
      "execution_count": null,
      "outputs": []
    }
  ]
}